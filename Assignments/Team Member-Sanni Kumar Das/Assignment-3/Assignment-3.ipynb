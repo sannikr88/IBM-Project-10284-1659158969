{
  "nbformat": 4,
  "nbformat_minor": 0,
  "metadata": {
    "colab": {
      "provenance": [],
      "collapsed_sections": []
    },
    "kernelspec": {
      "name": "python3",
      "display_name": "Python 3"
    },
    "language_info": {
      "name": "python"
    }
  },
  "cells": [
    {
      "cell_type": "markdown",
      "source": [
        "**1.DOWNLOAD THE DATASET**"
      ],
      "metadata": {
        "id": "MgdmjorHW3o8"
      }
    },
    {
      "cell_type": "code",
      "source": [
        "from google.colab import drive\n",
        "drive.mount('/content/drive')"
      ],
      "metadata": {
        "colab": {
          "base_uri": "https://localhost:8080/"
        },
        "id": "-E5aj4smqGe-",
        "outputId": "902caa1c-2f8a-4373-c181-b1edad136722"
      },
      "execution_count": null,
      "outputs": [
        {
          "output_type": "stream",
          "name": "stdout",
          "text": [
            "Mounted at /content/drive\n"
          ]
        }
      ]
    },
    {
      "cell_type": "code",
      "execution_count": null,
      "metadata": {
        "id": "CDj7lcjrffNB"
      },
      "outputs": [],
      "source": [
        "from tensorflow.keras.models import Sequential\n",
        "from tensorflow.keras.layers import Convolution2D,MaxPool2D,Flatten,Dense"
      ]
    },
    {
      "cell_type": "code",
      "source": [
        "from tensorflow.keras.preprocessing.image import ImageDataGenerator"
      ],
      "metadata": {
        "id": "FV76563fgooX"
      },
      "execution_count": null,
      "outputs": []
    },
    {
      "cell_type": "markdown",
      "source": [
        "**2.IMAGE AUGUMENTATION**"
      ],
      "metadata": {
        "id": "NVf44IivdQSP"
      }
    },
    {
      "cell_type": "code",
      "source": [
        "train_datagen = ImageDataGenerator(rescale=1./255,shear_range=0.2,zoom_range=0.2,horizontal_flip=True,vertical_flip=True)"
      ],
      "metadata": {
        "id": "g6ZcaG_giP-f"
      },
      "execution_count": null,
      "outputs": []
    },
    {
      "cell_type": "code",
      "source": [
        "test_datagen=ImageDataGenerator(rescale=1./255)"
      ],
      "metadata": {
        "id": "lWlvD2cHlGVr"
      },
      "execution_count": null,
      "outputs": []
    },
    {
      "cell_type": "code",
      "source": [
        "x_train = train_datagen.flow_from_directory(r\"/content/drive/MyDrive/dataset/Training\",target_size=(64,64),batch_size=32,class_mode=\"categorical\")"
      ],
      "metadata": {
        "colab": {
          "base_uri": "https://localhost:8080/"
        },
        "id": "oGjlAAFjlh3G",
        "outputId": "30ac082f-22a1-4f73-8da6-501f7aceb644"
      },
      "execution_count": null,
      "outputs": [
        {
          "output_type": "stream",
          "name": "stdout",
          "text": [
            "Found 1238 images belonging to 4 classes.\n"
          ]
        }
      ]
    },
    {
      "cell_type": "code",
      "source": [
        "#load your images data\n",
        "\n",
        "x_test = test_datagen.flow_from_directory(r\"/content/drive/MyDrive/dataset/Testing\",target_size=(64,64),batch_size=32,class_mode=\"categorical\")"
      ],
      "metadata": {
        "colab": {
          "base_uri": "https://localhost:8080/"
        },
        "id": "rB3cna57scC6",
        "outputId": "831fd058-ee12-488e-e290-6b91dab75a98"
      },
      "execution_count": null,
      "outputs": [
        {
          "output_type": "stream",
          "name": "stdout",
          "text": [
            "Found 326 images belonging to 4 classes.\n"
          ]
        }
      ]
    },
    {
      "cell_type": "code",
      "source": [
        "x_train.class_indices"
      ],
      "metadata": {
        "colab": {
          "base_uri": "https://localhost:8080/"
        },
        "id": "ahEnjiwXsxKG",
        "outputId": "172b2e53-d3db-4a59-9660-cdb2d2617e97"
      },
      "execution_count": null,
      "outputs": [
        {
          "output_type": "execute_result",
          "data": {
            "text/plain": [
              "{'bears': 0, 'crows': 1, 'elephants': 2, 'rats': 3}"
            ]
          },
          "metadata": {},
          "execution_count": 29
        }
      ]
    },
    {
      "cell_type": "markdown",
      "source": [
        "**3.CREATE MODEL**"
      ],
      "metadata": {
        "id": "IPwOFND_dIDi"
      }
    },
    {
      "cell_type": "code",
      "source": [
        "#initialize the model\n",
        "model=Sequential()"
      ],
      "metadata": {
        "id": "HyHyBI3isx1l"
      },
      "execution_count": null,
      "outputs": []
    },
    {
      "cell_type": "markdown",
      "source": [
        "**4.ADD LAYERS(Convolution,MxPooling,Flatten,Dense-(Hidden Layers),Output)**"
      ],
      "metadata": {
        "id": "QsYbzM9ZbFNa"
      }
    },
    {
      "cell_type": "code",
      "source": [
        "#add convolution layer\n",
        "model.add(Convolution2D(32,(3,3),input_shape=(64,64,3),activation='relu'))"
      ],
      "metadata": {
        "id": "tF698i7csyD0"
      },
      "execution_count": null,
      "outputs": []
    },
    {
      "cell_type": "code",
      "source": [
        "#add max pooling layer\n",
        "model.add(MaxPooling2D(pool_size=(2,2)))"
      ],
      "metadata": {
        "id": "7V2Dw9IgxOiA"
      },
      "execution_count": null,
      "outputs": []
    },
    {
      "cell_type": "code",
      "source": [
        "model.add(Flatten())"
      ],
      "metadata": {
        "id": "ghSvvgmssyU2"
      },
      "execution_count": null,
      "outputs": []
    },
    {
      "cell_type": "code",
      "source": [
        "#hidden layers\n",
        "model.add(Dense(units=300,kernel_initializer=\"random_uniform\",activation=\"relu\"))\n",
        "model.add(Dense(units=200,kernel_initializer=\"random_uniform\",activation=\"relu\"))\n",
        "#output layer\n",
        "model.add(Dense(units=4,kernel_initializer=\"random_uniform\",activation=\"softmax\"))"
      ],
      "metadata": {
        "id": "cthNFIn_xqPs"
      },
      "execution_count": null,
      "outputs": []
    },
    {
      "cell_type": "markdown",
      "source": [
        "**5.COMPILE THE MODEL**"
      ],
      "metadata": {
        "id": "yKEBXNXxcVvP"
      }
    },
    {
      "cell_type": "code",
      "source": [
        "#compile the model\n",
        "model.compile(loss=\"categorical_crossentropy\",optimizer=\"adam\",metrics=['accuracy'])"
      ],
      "metadata": {
        "id": "ZBR_DORlyPPa"
      },
      "execution_count": null,
      "outputs": []
    },
    {
      "cell_type": "markdown",
      "source": [
        "**6.FIT THE MODEL**"
      ],
      "metadata": {
        "id": "PY6uQU6_cchg"
      }
    },
    {
      "cell_type": "code",
      "source": [
        "model.fit_generator(x_train,steps_per_epoch=39,epochs=25,validation_data=x_test,validation_steps=10)"
      ],
      "metadata": {
        "colab": {
          "base_uri": "https://localhost:8080/"
        },
        "id": "ke_A4-xWHqrZ",
        "outputId": "aaf0697f-4872-40a1-975e-78b0a76ef3a7"
      },
      "execution_count": null,
      "outputs": [
        {
          "output_type": "stream",
          "name": "stderr",
          "text": [
            "/usr/local/lib/python3.7/dist-packages/ipykernel_launcher.py:1: UserWarning: `Model.fit_generator` is deprecated and will be removed in a future version. Please use `Model.fit`, which supports generators.\n",
            "  \"\"\"Entry point for launching an IPython kernel.\n"
          ]
        },
        {
          "output_type": "stream",
          "name": "stdout",
          "text": [
            "Epoch 1/25\n",
            "39/39 [==============================] - 213s 5s/step - loss: 1.3571 - accuracy: 0.3086 - val_loss: 1.2797 - val_accuracy: 0.3844\n",
            "Epoch 2/25\n",
            "39/39 [==============================] - 31s 796ms/step - loss: 1.2132 - accuracy: 0.4338 - val_loss: 0.9831 - val_accuracy: 0.5469\n",
            "Epoch 3/25\n",
            "39/39 [==============================] - 31s 794ms/step - loss: 0.9853 - accuracy: 0.5792 - val_loss: 0.8243 - val_accuracy: 0.6500\n",
            "Epoch 4/25\n",
            "39/39 [==============================] - 31s 790ms/step - loss: 0.8966 - accuracy: 0.6284 - val_loss: 0.7700 - val_accuracy: 0.6781\n",
            "Epoch 5/25\n",
            "39/39 [==============================] - 31s 793ms/step - loss: 0.8226 - accuracy: 0.6656 - val_loss: 0.6223 - val_accuracy: 0.7656\n",
            "Epoch 6/25\n",
            "39/39 [==============================] - 31s 800ms/step - loss: 0.7507 - accuracy: 0.6922 - val_loss: 0.5325 - val_accuracy: 0.8344\n",
            "Epoch 7/25\n",
            "39/39 [==============================] - 31s 796ms/step - loss: 0.7334 - accuracy: 0.6931 - val_loss: 0.6391 - val_accuracy: 0.7563\n",
            "Epoch 8/25\n",
            "39/39 [==============================] - 31s 800ms/step - loss: 0.6739 - accuracy: 0.7246 - val_loss: 0.4539 - val_accuracy: 0.8188\n",
            "Epoch 9/25\n",
            "39/39 [==============================] - 31s 795ms/step - loss: 0.6430 - accuracy: 0.7528 - val_loss: 0.5661 - val_accuracy: 0.7250\n",
            "Epoch 10/25\n",
            "39/39 [==============================] - 31s 793ms/step - loss: 0.5744 - accuracy: 0.7617 - val_loss: 0.3414 - val_accuracy: 0.8875\n",
            "Epoch 11/25\n",
            "39/39 [==============================] - 31s 792ms/step - loss: 0.5035 - accuracy: 0.8013 - val_loss: 0.5984 - val_accuracy: 0.7781\n",
            "Epoch 12/25\n",
            "39/39 [==============================] - 31s 790ms/step - loss: 0.4987 - accuracy: 0.8053 - val_loss: 0.3194 - val_accuracy: 0.8781\n",
            "Epoch 13/25\n",
            "39/39 [==============================] - 31s 794ms/step - loss: 0.4479 - accuracy: 0.8183 - val_loss: 0.2687 - val_accuracy: 0.8906\n",
            "Epoch 14/25\n",
            "39/39 [==============================] - 31s 793ms/step - loss: 0.3554 - accuracy: 0.8740 - val_loss: 0.2047 - val_accuracy: 0.9312\n",
            "Epoch 15/25\n",
            "39/39 [==============================] - 31s 796ms/step - loss: 0.3572 - accuracy: 0.8667 - val_loss: 0.3596 - val_accuracy: 0.8313\n",
            "Epoch 16/25\n",
            "39/39 [==============================] - 31s 791ms/step - loss: 0.3545 - accuracy: 0.8708 - val_loss: 0.1499 - val_accuracy: 0.9625\n",
            "Epoch 17/25\n",
            "39/39 [==============================] - 31s 794ms/step - loss: 0.3031 - accuracy: 0.8885 - val_loss: 0.1655 - val_accuracy: 0.9406\n",
            "Epoch 18/25\n",
            "39/39 [==============================] - 31s 794ms/step - loss: 0.3006 - accuracy: 0.8990 - val_loss: 0.1121 - val_accuracy: 0.9656\n",
            "Epoch 19/25\n",
            "39/39 [==============================] - 31s 796ms/step - loss: 0.2436 - accuracy: 0.9063 - val_loss: 0.0975 - val_accuracy: 0.9563\n",
            "Epoch 20/25\n",
            "39/39 [==============================] - 31s 793ms/step - loss: 0.2332 - accuracy: 0.9233 - val_loss: 0.0822 - val_accuracy: 0.9844\n",
            "Epoch 21/25\n",
            "39/39 [==============================] - 31s 788ms/step - loss: 0.1828 - accuracy: 0.9346 - val_loss: 0.0978 - val_accuracy: 0.9625\n",
            "Epoch 22/25\n",
            "39/39 [==============================] - 31s 791ms/step - loss: 0.2079 - accuracy: 0.9330 - val_loss: 0.2019 - val_accuracy: 0.9312\n",
            "Epoch 23/25\n",
            "39/39 [==============================] - 31s 796ms/step - loss: 0.1691 - accuracy: 0.9410 - val_loss: 0.0647 - val_accuracy: 0.9781\n",
            "Epoch 24/25\n",
            "39/39 [==============================] - 31s 798ms/step - loss: 0.1361 - accuracy: 0.9491 - val_loss: 0.0550 - val_accuracy: 0.9750\n",
            "Epoch 25/25\n",
            "39/39 [==============================] - 31s 795ms/step - loss: 0.1839 - accuracy: 0.9346 - val_loss: 0.1726 - val_accuracy: 0.9312\n"
          ]
        },
        {
          "output_type": "execute_result",
          "data": {
            "text/plain": [
              "<keras.callbacks.History at 0x7f42189f8dd0>"
            ]
          },
          "metadata": {},
          "execution_count": 38
        }
      ]
    },
    {
      "cell_type": "markdown",
      "source": [
        "**7.SAVE THE MODEL**"
      ],
      "metadata": {
        "id": "ciSoGUiFcoyV"
      }
    },
    {
      "cell_type": "code",
      "source": [
        "model.save(\"animal.h5\")"
      ],
      "metadata": {
        "id": "RArma8edyQ-b"
      },
      "execution_count": null,
      "outputs": []
    },
    {
      "cell_type": "markdown",
      "source": [
        "**8.TEST THE MODEL**"
      ],
      "metadata": {
        "id": "HQOLUVLlczFR"
      }
    },
    {
      "cell_type": "code",
      "source": [
        "#CNN prediction\n",
        "from tensorflow.keras.models import load_model"
      ],
      "metadata": {
        "id": "RsMPmF1pyRJp"
      },
      "execution_count": 85,
      "outputs": []
    },
    {
      "cell_type": "code",
      "source": [
        "from tensorflow.keras.preprocessing import image"
      ],
      "metadata": {
        "id": "Q6Pi835kyRZ6"
      },
      "execution_count": null,
      "outputs": []
    },
    {
      "cell_type": "code",
      "source": [
        "import numpy as np"
      ],
      "metadata": {
        "id": "t_hfgq1mOIjx"
      },
      "execution_count": null,
      "outputs": []
    },
    {
      "cell_type": "code",
      "source": [
        "model = load_model('animal.h5')\n",
        "img = image.load_img('/content/drive/MyDrive/dataset/Testing/crows/Z1  (28).jpg',target_size=(64,64))"
      ],
      "metadata": {
        "id": "yKoqijC3OMaq"
      },
      "execution_count": 71,
      "outputs": []
    },
    {
      "cell_type": "code",
      "source": [
        "img"
      ],
      "metadata": {
        "colab": {
          "base_uri": "https://localhost:8080/",
          "height": 81
        },
        "id": "1VhxbP8RR2tI",
        "outputId": "c23b9380-627a-4444-ba04-883820bcf03b"
      },
      "execution_count": 72,
      "outputs": [
        {
          "output_type": "execute_result",
          "data": {
            "text/plain": [
              "<PIL.Image.Image image mode=RGB size=64x64 at 0x7F421F6DD0D0>"
            ],
            "image/png": "[encoded data removed]"
          },
          "metadata": {},
          "execution_count": 72
        }
      ]
    },
    {
      "cell_type": "code",
      "source": [
        "type(img)"
      ],
      "metadata": {
        "id": "aCAe5uykTmuX",
        "colab": {
          "base_uri": "https://localhost:8080/"
        },
        "outputId": "9f697ccd-b9e7-43e4-f30f-7df4dc3ce911"
      },
      "execution_count": 73,
      "outputs": [
        {
          "output_type": "execute_result",
          "data": {
            "text/plain": [
              "PIL.Image.Image"
            ]
          },
          "metadata": {},
          "execution_count": 73
        }
      ]
    },
    {
      "cell_type": "code",
      "source": [
        "x=image.img_to_array(img)"
      ],
      "metadata": {
        "id": "QAAjpITySC20"
      },
      "execution_count": 75,
      "outputs": []
    },
    {
      "cell_type": "code",
      "source": [
        "x"
      ],
      "metadata": {
        "id": "VjktopnhSSWN",
        "colab": {
          "base_uri": "https://localhost:8080/"
        },
        "outputId": "dbcfda52-0b4a-4625-eb02-aa150c6c2998"
      },
      "execution_count": 76,
      "outputs": [
        {
          "output_type": "execute_result",
          "data": {
            "text/plain": [
              "array([[[230., 238., 240.],\n",
              "        [235., 239., 242.],\n",
              "        [235., 239., 242.],\n",
              "        ...,\n",
              "        [241., 242., 244.],\n",
              "        [242., 241., 246.],\n",
              "        [242., 241., 246.]],\n",
              "\n",
              "       [[234., 238., 241.],\n",
              "        [235., 239., 242.],\n",
              "        [235., 239., 242.],\n",
              "        ...,\n",
              "        [240., 241., 243.],\n",
              "        [241., 240., 245.],\n",
              "        [242., 241., 246.]],\n",
              "\n",
              "       [[234., 238., 241.],\n",
              "        [234., 238., 241.],\n",
              "        [234., 238., 241.],\n",
              "        ...,\n",
              "        [242., 241., 246.],\n",
              "        [242., 242., 244.],\n",
              "        [242., 242., 244.]],\n",
              "\n",
              "       ...,\n",
              "\n",
              "       [[136.,  97.,  30.],\n",
              "        [147., 112.,  56.],\n",
              "        [168., 128.,  59.],\n",
              "        ...,\n",
              "        [161., 122.,  53.],\n",
              "        [159., 124.,  58.],\n",
              "        [171., 132.,  63.]],\n",
              "\n",
              "       [[136.,  99.,  29.],\n",
              "        [147., 112.,  44.],\n",
              "        [176., 132.,  71.],\n",
              "        ...,\n",
              "        [166., 128.,  65.],\n",
              "        [164., 126.,  53.],\n",
              "        [176., 131.,  64.]],\n",
              "\n",
              "       [[148., 109.,  50.],\n",
              "        [151., 115.,  55.],\n",
              "        [191., 143.,  79.],\n",
              "        ...,\n",
              "        [168., 130.,  67.],\n",
              "        [156., 122.,  48.],\n",
              "        [160., 121.,  46.]]], dtype=float32)"
            ]
          },
          "metadata": {},
          "execution_count": 76
        }
      ]
    },
    {
      "cell_type": "code",
      "source": [
        "x.shape"
      ],
      "metadata": {
        "colab": {
          "base_uri": "https://localhost:8080/"
        },
        "id": "Cc-j0ZvvVGEG",
        "outputId": "a1901860-f172-4998-e88f-9602df5ec762"
      },
      "execution_count": 77,
      "outputs": [
        {
          "output_type": "execute_result",
          "data": {
            "text/plain": [
              "(64, 64, 3)"
            ]
          },
          "metadata": {},
          "execution_count": 77
        }
      ]
    },
    {
      "cell_type": "code",
      "source": [
        "x=np.expand_dims(x,axis=0)"
      ],
      "metadata": {
        "id": "FjZCDejvVGgY"
      },
      "execution_count": 78,
      "outputs": []
    },
    {
      "cell_type": "code",
      "source": [
        "pred_prob=model.predict(x)"
      ],
      "metadata": {
        "id": "tGWlfvb0VGwW"
      },
      "execution_count": 79,
      "outputs": []
    },
    {
      "cell_type": "code",
      "source": [
        "pred_prob"
      ],
      "metadata": {
        "colab": {
          "base_uri": "https://localhost:8080/"
        },
        "id": "kiW_IF9CVdz7",
        "outputId": "c650a3ed-effd-4389-e9e6-e1d4f41ab69f"
      },
      "execution_count": 80,
      "outputs": [
        {
          "output_type": "execute_result",
          "data": {
            "text/plain": [
              "array([[0., 1., 0., 0.]], dtype=float32)"
            ]
          },
          "metadata": {},
          "execution_count": 80
        }
      ]
    },
    {
      "cell_type": "code",
      "source": [
        "class_name=['Bear','Crow','Elephant','Rat']"
      ],
      "metadata": {
        "id": "AkBGajI5Vhm-"
      },
      "execution_count": 81,
      "outputs": []
    },
    {
      "cell_type": "code",
      "source": [
        "pred_id=pred_prob.argmax(axis=1)[0]"
      ],
      "metadata": {
        "id": "Vx0YJQ6CVh3_"
      },
      "execution_count": 82,
      "outputs": []
    },
    {
      "cell_type": "code",
      "source": [
        "pred_id"
      ],
      "metadata": {
        "colab": {
          "base_uri": "https://localhost:8080/"
        },
        "id": "V3GbjcPTViGX",
        "outputId": "fc0df370-8792-40e6-f1c0-9b58b10390ba"
      },
      "execution_count": 83,
      "outputs": [
        {
          "output_type": "execute_result",
          "data": {
            "text/plain": [
              "1"
            ]
          },
          "metadata": {},
          "execution_count": 83
        }
      ]
    },
    {
      "cell_type": "code",
      "source": [
        "print('Predicted animal is',str(class_name[pred_id]))"
      ],
      "metadata": {
        "colab": {
          "base_uri": "https://localhost:8080/"
        },
        "id": "2UMWNV3sWGmt",
        "outputId": "9db72989-498a-45fc-abc1-4f5f893108fb"
      },
      "execution_count": 84,
      "outputs": [
        {
          "output_type": "stream",
          "name": "stdout",
          "text": [
            "Predicted animal is Crow\n"
          ]
        }
      ]
    },
    {
      "cell_type": "code",
      "source": [],
      "metadata": {
        "id": "48_YcRcAWG00"
      },
      "execution_count": null,
      "outputs": []
    }
  ]
}